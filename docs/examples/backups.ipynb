{
 "cells": [
  {
   "cell_type": "code",
   "execution_count": 2,
   "metadata": {},
   "outputs": [],
   "source": [
    "import kmaps"
   ]
  },
  {
   "cell_type": "code",
   "execution_count": 3,
   "metadata": {},
   "outputs": [
    {
     "data": {
      "application/vnd.jupyter.widget-view+json": {
       "model_id": "11c635803543494e84efbd46ee4f181a",
       "version_major": 2,
       "version_minor": 0
      },
      "text/plain": [
       "Map(center=[37.5, 127], controls=(ZoomControl(options=['position', 'zoom_in_text', 'zoom_in_title', 'zoom_out_…"
      ]
     },
     "metadata": {},
     "output_type": "display_data"
    }
   ],
   "source": [
    "m = kmaps.Map()\n",
    "m"
   ]
  },
  {
   "cell_type": "code",
   "execution_count": 3,
   "metadata": {},
   "outputs": [],
   "source": [
    "# raw url\n",
    "url = \"https://opendata.digitalglobe.com/events/mauritius-oil-spill/post-event/2020-08-12/105001001F1B5B00/105001001F1B5B00.tif\""
   ]
  },
  {
   "cell_type": "code",
   "execution_count": 4,
   "metadata": {},
   "outputs": [],
   "source": [
    "m.add_raster(url)"
   ]
  },
  {
   "cell_type": "code",
   "execution_count": 5,
   "metadata": {},
   "outputs": [],
   "source": [
    "# only with ipyleaflet\n",
    "m.layers[-1].opacity = 0.5"
   ]
  },
  {
   "cell_type": "code",
   "execution_count": 6,
   "metadata": {},
   "outputs": [
    {
     "data": {
      "application/vnd.jupyter.widget-view+json": {
       "model_id": "a566299def3143a88d848d188c7374e0",
       "version_major": 2,
       "version_minor": 0
      },
      "text/plain": [
       "Box(children=(FloatSlider(value=0.5, description='opacity', max=1.0, step=0.01),))"
      ]
     },
     "metadata": {},
     "output_type": "display_data"
    }
   ],
   "source": [
    "m.layers[-1].interact(opacity = (0, 1, 0.01))"
   ]
  },
  {
   "cell_type": "code",
   "execution_count": 7,
   "metadata": {},
   "outputs": [
    {
     "data": {
      "application/vnd.jupyter.widget-view+json": {
       "model_id": "12e745b32ca743418a2aa1290a55070b",
       "version_major": 2,
       "version_minor": 0
      },
      "text/plain": [
       "Box(children=(FloatSlider(value=1.0, description='opacity', max=1.0, step=0.01),))"
      ]
     },
     "metadata": {},
     "output_type": "display_data"
    }
   ],
   "source": [
    "m.layers[0].interact(opacity = (0, 1, 0.01))"
   ]
  },
  {
   "cell_type": "code",
   "execution_count": 8,
   "metadata": {},
   "outputs": [],
   "source": [
    "from ipyleaflet import WidgetControl\n",
    "import ipywidgets as widgets"
   ]
  },
  {
   "cell_type": "code",
   "execution_count": 9,
   "metadata": {},
   "outputs": [
    {
     "data": {
      "application/vnd.jupyter.widget-view+json": {
       "model_id": "00d3d3c499a24223b8a1ee3e5622db4d",
       "version_major": 2,
       "version_minor": 0
      },
      "text/plain": [
       "FloatSlider(value=0.5, description='Layer', max=1.0, step=0.01)"
      ]
     },
     "metadata": {},
     "output_type": "display_data"
    }
   ],
   "source": [
    "slider = widgets.FloatSlider(value = 0.5, min = 0, max = 1, step = 0.01, description = 'Layer')\n",
    "slider"
   ]
  },
  {
   "cell_type": "code",
   "execution_count": 10,
   "metadata": {},
   "outputs": [
    {
     "data": {
      "text/plain": [
       "DirectionalLink(source=(FloatSlider(value=0.5, description='Layer', max=1.0, step=0.01), 'value'), target=(Til…"
      ]
     },
     "metadata": {},
     "output_type": "display_data"
    }
   ],
   "source": [
    "widgets.jsdlink((slider, 'value'), (m.layers[-1], 'opacity')) # link between a widget and a layer on the map "
   ]
  },
  {
   "cell_type": "code",
   "execution_count": 11,
   "metadata": {},
   "outputs": [],
   "source": [
    "control = WidgetControl(widget = slider, position = 'bottomright')"
   ]
  },
  {
   "cell_type": "code",
   "execution_count": 12,
   "metadata": {},
   "outputs": [
    {
     "data": {
      "application/vnd.jupyter.widget-view+json": {
       "model_id": "15929f2c912f4fe98b96d503ab6afd54",
       "version_major": 2,
       "version_minor": 0
      },
      "text/plain": [
       "Map(bottom=146454.0, center=[-20.403673802342773, 57.75213430160109], controls=(ZoomControl(options=['position…"
      ]
     },
     "metadata": {},
     "output_type": "display_data"
    }
   ],
   "source": [
    "m.add(control)"
   ]
  },
  {
   "cell_type": "code",
   "execution_count": 13,
   "metadata": {},
   "outputs": [],
   "source": [
    "url2 = 'https://geography.utk.edu/wp-content/uploads/2022/09/grad_group_photo_fa22_crop-1536x916.jpg'"
   ]
  },
  {
   "cell_type": "code",
   "execution_count": 14,
   "metadata": {},
   "outputs": [],
   "source": [
    "widget = widgets.HTML(value = f'<img src=\"{url2}\" width = \"100\" height = \"60\">')"
   ]
  },
  {
   "cell_type": "code",
   "execution_count": 15,
   "metadata": {},
   "outputs": [],
   "source": [
    "control2 = WidgetControl(widget = widget, position = 'bottomright')"
   ]
  },
  {
   "cell_type": "code",
   "execution_count": 5,
   "metadata": {},
   "outputs": [
    {
     "ename": "NameError",
     "evalue": "name 'control2' is not defined",
     "output_type": "error",
     "traceback": [
      "\u001b[1;31m---------------------------------------------------------------------------\u001b[0m",
      "\u001b[1;31mNameError\u001b[0m                                 Traceback (most recent call last)",
      "Cell \u001b[1;32mIn[5], line 1\u001b[0m\n\u001b[1;32m----> 1\u001b[0m m\u001b[39m.\u001b[39madd(control2)\n",
      "\u001b[1;31mNameError\u001b[0m: name 'control2' is not defined"
     ]
    }
   ],
   "source": [
    "m.add(control2)"
   ]
  }
 ],
 "metadata": {
  "kernelspec": {
   "display_name": "geog510",
   "language": "python",
   "name": "python3"
  },
  "language_info": {
   "codemirror_mode": {
    "name": "ipython",
    "version": 3
   },
   "file_extension": ".py",
   "mimetype": "text/x-python",
   "name": "python",
   "nbconvert_exporter": "python",
   "pygments_lexer": "ipython3",
   "version": "3.9.16"
  },
  "orig_nbformat": 4
 },
 "nbformat": 4,
 "nbformat_minor": 2
}
