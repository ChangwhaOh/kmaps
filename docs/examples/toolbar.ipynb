{
    "cells": [
        {
            "cell_type": "code",
            "execution_count": 1,
            "metadata": {},
            "outputs": [],
            "source": [
                "import geosdemo\n",
                "import ipywidgets as widgets\n",
                "from ipyleaflet import WidgetControl\n",
                "import kmaps"
            ]
        },
        {
            "cell_type": "markdown",
            "metadata": {},
            "source": [
                "## Creating a toolbar button"
            ]
        },
        {
            "cell_type": "code",
            "execution_count": 2,
            "metadata": {},
            "outputs": [],
            "source": [
                "widget_width = \"250px\"\n",
                "padding = \"0px 0px 0px 5px\"  # upper, right, bottom, left\n",
                "\n",
                "toolbar_button = widgets.ToggleButton(\n",
                "    value=False,\n",
                "    tooltip=\"Toolbar\",\n",
                "    icon=\"wrench\",\n",
                "    layout=widgets.Layout(width=\"28px\", height=\"28px\", padding=padding),\n",
                ")\n",
                "\n",
                "close_button = widgets.ToggleButton(\n",
                "    value=False,\n",
                "    tooltip=\"Close the tool\",\n",
                "    icon=\"times\",\n",
                "    button_style=\"primary\",\n",
                "    layout=widgets.Layout(height=\"28px\", width=\"28px\", padding=padding),\n",
                ")"
            ]
        },
        {
            "cell_type": "code",
            "execution_count": 3,
            "metadata": {},
            "outputs": [
                {
                    "data": {
                        "application/vnd.jupyter.widget-view+json": {
                            "model_id": "f0abe8d12f9f4641bde2601c80769ac6",
                            "version_major": 2,
                            "version_minor": 0
                        },
                        "text/plain": [
                            "HBox(children=(ToggleButton(value=False, icon='wrench', layout=Layout(height='28px', padding='0px 0px 0px 5px'…"
                        ]
                    },
                    "metadata": {},
                    "output_type": "display_data"
                }
            ],
            "source": [
                "toolbar = widgets.HBox([toolbar_button])\n",
                "toolbar"
            ]
        },
        {
            "cell_type": "markdown",
            "metadata": {},
            "source": [
                "## Adding toolbar event"
            ]
        },
        {
            "cell_type": "code",
            "execution_count": 4,
            "metadata": {},
            "outputs": [],
            "source": [
                "def toolbar_click(change):\n",
                "    if change[\"new\"]:\n",
                "        toolbar.children = [toolbar_button, close_button]\n",
                "    else:\n",
                "        toolbar.children = [toolbar_button]\n",
                "        \n",
                "toolbar_button.observe(toolbar_click, \"value\")"
            ]
        },
        {
            "cell_type": "code",
            "execution_count": 5,
            "metadata": {},
            "outputs": [
                {
                    "data": {
                        "application/vnd.jupyter.widget-view+json": {
                            "model_id": "f0abe8d12f9f4641bde2601c80769ac6",
                            "version_major": 2,
                            "version_minor": 0
                        },
                        "text/plain": [
                            "HBox(children=(ToggleButton(value=False, icon='wrench', layout=Layout(height='28px', padding='0px 0px 0px 5px'…"
                        ]
                    },
                    "metadata": {},
                    "output_type": "display_data"
                }
            ],
            "source": [
                "def close_click(change):\n",
                "    if change[\"new\"]:\n",
                "        toolbar_button.close()\n",
                "        close_button.close()\n",
                "        toolbar.close()\n",
                "        \n",
                "close_button.observe(close_click, \"value\")\n",
                "toolbar"
            ]
        },
        {
            "cell_type": "markdown",
            "metadata": {},
            "source": [
                "## Adding toolbar grid"
            ]
        },
        {
            "cell_type": "code",
            "execution_count": 6,
            "metadata": {},
            "outputs": [],
            "source": [
                "rows = 2\n",
                "cols = 2\n",
                "grid = widgets.GridspecLayout(rows, cols, grid_gap=\"0px\", layout=widgets.Layout(width=\"65px\"))"
            ]
        },
        {
            "cell_type": "markdown",
            "metadata": {},
            "source": [
                "icons: https://fontawesome.com/v4.7.0/icons/"
            ]
        },
        {
            "cell_type": "code",
            "execution_count": 7,
            "metadata": {},
            "outputs": [
                {
                    "data": {
                        "application/vnd.jupyter.widget-view+json": {
                            "model_id": "c0ce7b83f01f42cfa764d95663e3cc7f",
                            "version_major": 2,
                            "version_minor": 0
                        },
                        "text/plain": [
                            "GridspecLayout(children=(Button(button_style='primary', icon='folder-open', layout=Layout(grid_area='widget001…"
                        ]
                    },
                    "metadata": {},
                    "output_type": "display_data"
                }
            ],
            "source": [
                "icons = [\"folder-open\", \"map\", \"info\", \"question\"]\n",
                "\n",
                "for i in range(rows):\n",
                "    for j in range(cols):\n",
                "        grid[i, j] = widgets.Button(description=\"\", button_style=\"primary\", icon=icons[i*rows+j], \n",
                "                                    layout=widgets.Layout(width=\"28px\", padding=\"0px\"))\n",
                "grid"
            ]
        },
        {
            "cell_type": "code",
            "execution_count": 8,
            "metadata": {},
            "outputs": [],
            "source": [
                "toolbar = widgets.VBox([toolbar_button])"
            ]
        },
        {
            "cell_type": "code",
            "execution_count": 9,
            "metadata": {},
            "outputs": [
                {
                    "data": {
                        "application/vnd.jupyter.widget-view+json": {
                            "model_id": "342f8282d6214f20939185dd015329fd",
                            "version_major": 2,
                            "version_minor": 0
                        },
                        "text/plain": [
                            "VBox(children=(ToggleButton(value=False, icon='wrench', layout=Layout(height='28px', padding='0px 0px 0px 5px'…"
                        ]
                    },
                    "metadata": {},
                    "output_type": "display_data"
                }
            ],
            "source": [
                "def toolbar_click(change):\n",
                "    if change[\"new\"]:\n",
                "        toolbar.children = [widgets.HBox([close_button, toolbar_button]), grid]\n",
                "    else:\n",
                "        toolbar.children = [toolbar_button]\n",
                "        \n",
                "toolbar_button.observe(toolbar_click, \"value\")\n",
                "toolbar"
            ]
        },
        {
            "cell_type": "markdown",
            "metadata": {},
            "source": [
                "## Adding toolbar to ipyleaflet"
            ]
        },
        {
            "cell_type": "code",
            "execution_count": 10,
            "metadata": {},
            "outputs": [],
            "source": [
                "toolbar_ctrl = WidgetControl(widget = toolbar, position = 'bottomright')"
            ]
        },
        {
            "cell_type": "code",
            "execution_count": 11,
            "metadata": {
                "scrolled": false
            },
            "outputs": [
                {
                    "data": {
                        "application/vnd.jupyter.widget-view+json": {
                            "model_id": "a454af3fa89346f3b07ad67c1e28a222",
                            "version_major": 2,
                            "version_minor": 0
                        },
                        "text/plain": [
                            "Map(center=[37.5, 127], controls=(ZoomControl(options=['position', 'zoom_in_text', 'zoom_in_title', 'zoom_out_…"
                        ]
                    },
                    "metadata": {},
                    "output_type": "display_data"
                }
            ],
            "source": [
                "m = kmaps.Map()\n",
                "#m.add_control(toolbar_ctrl)\n",
                "m"
            ]
        },
        {
            "cell_type": "code",
            "execution_count": 12,
            "metadata": {},
            "outputs": [],
            "source": [
                "output = widgets.Output()\n",
                "output_ctrl = WidgetControl(widget=output, position=\"bottomright\")\n",
                "#m.add_control(output_ctrl)"
            ]
        },
        {
            "cell_type": "code",
            "execution_count": 13,
            "metadata": {},
            "outputs": [
                {
                    "data": {
                        "application/vnd.jupyter.widget-view+json": {
                            "model_id": "273288e192384fb5a85df200ee405022",
                            "version_major": 2,
                            "version_minor": 0
                        },
                        "text/plain": [
                            "Dropdown(description='Basemap', options=('Satellite', 'Roadmap'), value=None)"
                        ]
                    },
                    "metadata": {},
                    "output_type": "display_data"
                }
            ],
            "source": [
                "basemap = widgets.Dropdown(\n",
                "    options = ['Satellite', 'Roadmap'],\n",
                "    value = None,\n",
                "    description = 'Basemap',\n",
                ")\n",
                "basemap"
            ]
        },
        {
            "cell_type": "code",
            "execution_count": 14,
            "metadata": {},
            "outputs": [],
            "source": [
                "basemap_ctrl = WidgetControl(widget = basemap, position = 'bottomright')"
            ]
        },
        {
            "cell_type": "code",
            "execution_count": 15,
            "metadata": {},
            "outputs": [],
            "source": [
                "def change_basemap(change):\n",
                "    if change['new']:\n",
                "        m.add_basemap(basemap.value)"
            ]
        },
        {
            "cell_type": "code",
            "execution_count": 16,
            "metadata": {},
            "outputs": [],
            "source": [
                "basemap.observe(change_basemap, 'value')"
            ]
        },
        {
            "cell_type": "code",
            "execution_count": null,
            "metadata": {},
            "outputs": [],
            "source": []
        },
        {
            "cell_type": "code",
            "execution_count": 17,
            "metadata": {},
            "outputs": [],
            "source": [
                "def tool_click(b):    \n",
                "    with output:\n",
                "        output.clear_output()\n",
                "        print(f\"You clicked the {b.icon} button\")\n",
                "\n",
                "        if b.icon == 'map':\n",
                "            if basemap_ctrl not in m.controls:\n",
                "                m.add(basemap_ctrl)"
            ]
        },
        {
            "cell_type": "code",
            "execution_count": 18,
            "metadata": {},
            "outputs": [],
            "source": [
                "for i in range(rows):\n",
                "    for j in range(cols):\n",
                "        tool = grid[i, j]\n",
                "        tool.on_click(tool_click)"
            ]
        },
        {
            "cell_type": "markdown",
            "metadata": {},
            "source": [
                "![](https://i.imgur.com/3LbyC1Y.gif)"
            ]
        }
    ],
    "metadata": {
        "hide_input": false,
        "kernelspec": {
            "display_name": "Python 3",
            "language": "python",
            "name": "python3"
        },
        "language_info": {
            "codemirror_mode": {
                "name": "ipython",
                "version": 3
            },
            "file_extension": ".py",
            "mimetype": "text/x-python",
            "name": "python",
            "nbconvert_exporter": "python",
            "pygments_lexer": "ipython3",
            "version": "3.9.16"
        },
        "toc": {
            "base_numbering": 1,
            "nav_menu": {},
            "number_sections": true,
            "sideBar": true,
            "skip_h1_title": false,
            "title_cell": "Table of Contents",
            "title_sidebar": "Contents",
            "toc_cell": false,
            "toc_position": {},
            "toc_section_display": true,
            "toc_window_display": false
        },
        "varInspector": {
            "cols": {
                "lenName": 16,
                "lenType": 16,
                "lenVar": 40
            },
            "kernels_config": {
                "python": {
                    "delete_cmd_postfix": "",
                    "delete_cmd_prefix": "del ",
                    "library": "var_list.py",
                    "varRefreshCmd": "print(var_dic_list())"
                },
                "r": {
                    "delete_cmd_postfix": ") ",
                    "delete_cmd_prefix": "rm(",
                    "library": "var_list.r",
                    "varRefreshCmd": "cat(var_dic_list()) "
                }
            },
            "types_to_exclude": [
                "module",
                "function",
                "builtin_function_or_method",
                "instance",
                "_Feature"
            ],
            "window_display": false
        }
    },
    "nbformat": 4,
    "nbformat_minor": 4
}
