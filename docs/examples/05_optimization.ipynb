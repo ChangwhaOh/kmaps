{
 "cells": [
  {
   "cell_type": "code",
   "execution_count": 1,
   "metadata": {},
   "outputs": [],
   "source": [
    "import kmaps\n",
    "import geopandas as gpd\n",
    "import numpy as np\n",
    "\n",
    "import matplotlib.pyplot as plt"
   ]
  },
  {
   "cell_type": "code",
   "execution_count": 2,
   "metadata": {},
   "outputs": [
    {
     "data": {
      "application/vnd.jupyter.widget-view+json": {
       "model_id": "82110016f69f42fc9931dac86c56744f",
       "version_major": 2,
       "version_minor": 0
      },
      "text/plain": [
       "Map(center=[36, -84], controls=(ZoomControl(options=['position', 'zoom_in_text', 'zoom_in_title', 'zoom_out_te…"
      ]
     },
     "metadata": {},
     "output_type": "display_data"
    }
   ],
   "source": [
    "m = kmaps.Map(center = [36, -84])\n",
    "m"
   ]
  },
  {
   "cell_type": "code",
   "execution_count": 3,
   "metadata": {},
   "outputs": [],
   "source": [
    "df = gpd.read_file('data/BuildingsCentroids_OSM_UTK.shp')"
   ]
  },
  {
   "cell_type": "code",
   "execution_count": 4,
   "metadata": {},
   "outputs": [],
   "source": [
    "m.add_cmark(location = (36, -84))"
   ]
  },
  {
   "cell_type": "code",
   "execution_count": 5,
   "metadata": {},
   "outputs": [],
   "source": [
    "m.add_shp('data/BuildingsCentroids_OSM_UTK.shp')"
   ]
  },
  {
   "cell_type": "code",
   "execution_count": 6,
   "metadata": {},
   "outputs": [],
   "source": [
    "m.add_Weber('data/BuildingsCentroids_OSM_UTK.shp', 'w')"
   ]
  },
  {
   "cell_type": "code",
   "execution_count": 7,
   "metadata": {},
   "outputs": [
    {
     "data": {
      "text/plain": [
       "1.4142135623730951"
      ]
     },
     "execution_count": 7,
     "metadata": {},
     "output_type": "execute_result"
    }
   ],
   "source": [
    "dist = kmaps.euclidean_dist([0, 0], [1, 1])\n",
    "dist"
   ]
  },
  {
   "cell_type": "code",
   "execution_count": 8,
   "metadata": {},
   "outputs": [
    {
     "name": "stderr",
     "output_type": "stream",
     "text": [
      "c:\\users\\changwha\\documents\\kmaps\\kmaps\\kmaps.py:613: UserWarning: Geometry is in a geographic CRS. Results from 'distance' are likely incorrect. Use 'GeoSeries.to_crs()' to re-project geometries to a projected CRS before this operation.\n",
      "\n",
      "  temp_ls = list(df['geometry'].distance(df['geometry'][i]))\n"
     ]
    },
    {
     "data": {
      "text/plain": [
       "array([[0.        , 0.00348179, 0.00332998, ..., 0.01102983, 0.00891201,\n",
       "        0.00820227],\n",
       "       [0.00348179, 0.        , 0.00041363, ..., 0.007572  , 0.00543417,\n",
       "        0.00494982],\n",
       "       [0.00332998, 0.00041363, 0.        , ..., 0.00770045, 0.0056416 ,\n",
       "        0.00494922],\n",
       "       ...,\n",
       "       [0.01102983, 0.007572  , 0.00770045, ..., 0.        , 0.00250122,\n",
       "        0.00331625],\n",
       "       [0.00891201, 0.00543417, 0.0056416 , ..., 0.00250122, 0.        ,\n",
       "        0.00278867],\n",
       "       [0.00820227, 0.00494982, 0.00494922, ..., 0.00331625, 0.00278867,\n",
       "        0.        ]])"
      ]
     },
     "execution_count": 8,
     "metadata": {},
     "output_type": "execute_result"
    }
   ],
   "source": [
    "dist_mat = kmaps.distance_matrix(df)\n",
    "dist_mat"
   ]
  }
 ],
 "metadata": {
  "kernelspec": {
   "display_name": "geog510",
   "language": "python",
   "name": "python3"
  },
  "language_info": {
   "codemirror_mode": {
    "name": "ipython",
    "version": 3
   },
   "file_extension": ".py",
   "mimetype": "text/x-python",
   "name": "python",
   "nbconvert_exporter": "python",
   "pygments_lexer": "ipython3",
   "version": "3.9.16"
  },
  "orig_nbformat": 4
 },
 "nbformat": 4,
 "nbformat_minor": 2
}
