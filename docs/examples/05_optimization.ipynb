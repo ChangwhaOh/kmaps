{
 "cells": [
  {
   "cell_type": "code",
   "execution_count": 11,
   "metadata": {},
   "outputs": [],
   "source": [
    "import kmaps\n",
    "import geopandas as gpd\n",
    "import numpy as np"
   ]
  },
  {
   "cell_type": "code",
   "execution_count": 12,
   "metadata": {},
   "outputs": [
    {
     "data": {
      "application/vnd.jupyter.widget-view+json": {
       "model_id": "506dad73da6443519a6de2bb95d8a3b3",
       "version_major": 2,
       "version_minor": 0
      },
      "text/plain": [
       "Map(center=[36, -84], controls=(ZoomControl(options=['position', 'zoom_in_text', 'zoom_in_title', 'zoom_out_te…"
      ]
     },
     "metadata": {},
     "output_type": "display_data"
    }
   ],
   "source": [
    "m = kmaps.Map(center = [36, -84])\n",
    "m"
   ]
  },
  {
   "cell_type": "code",
   "execution_count": 13,
   "metadata": {},
   "outputs": [],
   "source": [
    "df = gpd.read_file('data/BuildingsCentroids_OSM_UTK.shp')"
   ]
  },
  {
   "cell_type": "code",
   "execution_count": 14,
   "metadata": {},
   "outputs": [
    {
     "data": {
      "text/html": [
       "<div>\n",
       "<style scoped>\n",
       "    .dataframe tbody tr th:only-of-type {\n",
       "        vertical-align: middle;\n",
       "    }\n",
       "\n",
       "    .dataframe tbody tr th {\n",
       "        vertical-align: top;\n",
       "    }\n",
       "\n",
       "    .dataframe thead th {\n",
       "        text-align: right;\n",
       "    }\n",
       "</style>\n",
       "<table border=\"1\" class=\"dataframe\">\n",
       "  <thead>\n",
       "    <tr style=\"text-align: right;\">\n",
       "      <th></th>\n",
       "      <th>name</th>\n",
       "      <th>w</th>\n",
       "      <th>geometry</th>\n",
       "    </tr>\n",
       "  </thead>\n",
       "  <tbody>\n",
       "    <tr>\n",
       "      <th>0</th>\n",
       "      <td>Neyland Stadium</td>\n",
       "      <td>3</td>\n",
       "      <td>POINT (-83.92569 35.95466)</td>\n",
       "    </tr>\n",
       "    <tr>\n",
       "      <th>1</th>\n",
       "      <td>Humanities and Social Sciences</td>\n",
       "      <td>3</td>\n",
       "      <td>POINT (-83.92902 35.95367)</td>\n",
       "    </tr>\n",
       "    <tr>\n",
       "      <th>2</th>\n",
       "      <td>McClung Tower</td>\n",
       "      <td>6</td>\n",
       "      <td>POINT (-83.92897 35.95408)</td>\n",
       "    </tr>\n",
       "    <tr>\n",
       "      <th>3</th>\n",
       "      <td>University Printing &amp; Mail</td>\n",
       "      <td>4</td>\n",
       "      <td>POINT (-83.92825 35.94675)</td>\n",
       "    </tr>\n",
       "    <tr>\n",
       "      <th>4</th>\n",
       "      <td>UT Warehouse</td>\n",
       "      <td>3</td>\n",
       "      <td>POINT (-83.92908 35.94662)</td>\n",
       "    </tr>\n",
       "  </tbody>\n",
       "</table>\n",
       "</div>"
      ],
      "text/plain": [
       "                             name  w                    geometry\n",
       "0                 Neyland Stadium  3  POINT (-83.92569 35.95466)\n",
       "1  Humanities and Social Sciences  3  POINT (-83.92902 35.95367)\n",
       "2                   McClung Tower  6  POINT (-83.92897 35.95408)\n",
       "3      University Printing & Mail  4  POINT (-83.92825 35.94675)\n",
       "4                    UT Warehouse  3  POINT (-83.92908 35.94662)"
      ]
     },
     "execution_count": 14,
     "metadata": {},
     "output_type": "execute_result"
    }
   ],
   "source": [
    "df[0:5]"
   ]
  },
  {
   "cell_type": "code",
   "execution_count": 15,
   "metadata": {},
   "outputs": [],
   "source": [
    "m.add_cmark(location = (36, -84))"
   ]
  },
  {
   "cell_type": "code",
   "execution_count": 5,
   "metadata": {},
   "outputs": [],
   "source": [
    "m.add_shp('data/BuildingsCentroids_OSM_UTK.shp')"
   ]
  },
  {
   "cell_type": "code",
   "execution_count": 16,
   "metadata": {},
   "outputs": [],
   "source": [
    "m.add_Weber('data/BuildingsCentroids_OSM_UTK.shp', 'w')"
   ]
  }
 ],
 "metadata": {
  "kernelspec": {
   "display_name": "geog510",
   "language": "python",
   "name": "python3"
  },
  "language_info": {
   "codemirror_mode": {
    "name": "ipython",
    "version": 3
   },
   "file_extension": ".py",
   "mimetype": "text/x-python",
   "name": "python",
   "nbconvert_exporter": "python",
   "pygments_lexer": "ipython3",
   "version": "3.9.16"
  },
  "orig_nbformat": 4
 },
 "nbformat": 4,
 "nbformat_minor": 2
}
