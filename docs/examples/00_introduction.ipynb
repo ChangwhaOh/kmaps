{
 "cells": [
  {
   "attachments": {},
   "cell_type": "markdown",
   "metadata": {},
   "source": [
    "[![image](https://colab.research.google.com/assets/colab-badge.svg)](https://colab.research.google.com/github/ChangwhaOh/kmaps/blob/main/docs/examples/00_introduction.ipynb)"
   ]
  },
  {
   "cell_type": "code",
   "execution_count": 4,
   "metadata": {},
   "outputs": [],
   "source": [
    "import kmaps\n",
    "import ipyleaflet\n",
    "import geopandas as gpd"
   ]
  },
  {
   "attachments": {},
   "cell_type": "markdown",
   "metadata": {},
   "source": [
    "Default setting of a class Map is:\n",
    "\n",
    "`center = [37.5, 127]`\n",
    "\n",
    "`zoom = 8`"
   ]
  },
  {
   "cell_type": "code",
   "execution_count": 2,
   "metadata": {},
   "outputs": [
    {
     "data": {
      "application/vnd.jupyter.widget-view+json": {
       "model_id": "b5ae5b3a271b42d1a143e9cd6e359974",
       "version_major": 2,
       "version_minor": 0
      },
      "text/plain": [
       "Map(center=[37, 127], controls=(ZoomControl(options=['position', 'zoom_in_text', 'zoom_in_title', 'zoom_out_te…"
      ]
     },
     "metadata": {},
     "output_type": "display_data"
    }
   ],
   "source": [
    "m = kmaps.Map(center = [37, 127], zoom = 7)\n",
    "m"
   ]
  },
  {
   "cell_type": "code",
   "execution_count": 3,
   "metadata": {},
   "outputs": [],
   "source": [
    "m.add_shp('data/BuildingsCentroids_OSM_UTK.shp')"
   ]
  },
  {
   "cell_type": "code",
   "execution_count": 5,
   "metadata": {},
   "outputs": [],
   "source": [
    "df = gpd.read_file('data/BuildingsCentroids_OSM_UTK.shp')"
   ]
  },
  {
   "cell_type": "code",
   "execution_count": 6,
   "metadata": {},
   "outputs": [
    {
     "data": {
      "text/html": [
       "<div>\n",
       "<style scoped>\n",
       "    .dataframe tbody tr th:only-of-type {\n",
       "        vertical-align: middle;\n",
       "    }\n",
       "\n",
       "    .dataframe tbody tr th {\n",
       "        vertical-align: top;\n",
       "    }\n",
       "\n",
       "    .dataframe thead th {\n",
       "        text-align: right;\n",
       "    }\n",
       "</style>\n",
       "<table border=\"1\" class=\"dataframe\">\n",
       "  <thead>\n",
       "    <tr style=\"text-align: right;\">\n",
       "      <th></th>\n",
       "      <th>osm_id</th>\n",
       "      <th>name</th>\n",
       "      <th>type</th>\n",
       "      <th>building</th>\n",
       "      <th>other_tags</th>\n",
       "      <th>AREA_GEO</th>\n",
       "      <th>geometry</th>\n",
       "    </tr>\n",
       "  </thead>\n",
       "  <tbody>\n",
       "    <tr>\n",
       "      <th>0</th>\n",
       "      <td>1637098</td>\n",
       "      <td>Neyland Stadium</td>\n",
       "      <td>multipolygon</td>\n",
       "      <td>yes</td>\n",
       "      <td>\"addr:city\"=&gt;\"Knoxville\",\"addr:housenumber\"=&gt;\"...</td>\n",
       "      <td>32781.092686</td>\n",
       "      <td>POINT (-83.92569 35.95466)</td>\n",
       "    </tr>\n",
       "    <tr>\n",
       "      <th>1</th>\n",
       "      <td>12930066</td>\n",
       "      <td>Humanities and Social Sciences</td>\n",
       "      <td>multipolygon</td>\n",
       "      <td>university</td>\n",
       "      <td>NaN</td>\n",
       "      <td>2533.504774</td>\n",
       "      <td>POINT (-83.92902 35.95367)</td>\n",
       "    </tr>\n",
       "    <tr>\n",
       "      <th>2</th>\n",
       "      <td>15020855</td>\n",
       "      <td>McClung Tower</td>\n",
       "      <td>multipolygon</td>\n",
       "      <td>yes</td>\n",
       "      <td>\"layer\"=&gt;\"1\"</td>\n",
       "      <td>701.942535</td>\n",
       "      <td>POINT (-83.92897 35.95408)</td>\n",
       "    </tr>\n",
       "    <tr>\n",
       "      <th>3</th>\n",
       "      <td>NaN</td>\n",
       "      <td>University Printing &amp; Mail</td>\n",
       "      <td>NaN</td>\n",
       "      <td>university</td>\n",
       "      <td>NaN</td>\n",
       "      <td>4935.101437</td>\n",
       "      <td>POINT (-83.92825 35.94675)</td>\n",
       "    </tr>\n",
       "    <tr>\n",
       "      <th>4</th>\n",
       "      <td>NaN</td>\n",
       "      <td>UT Warehouse</td>\n",
       "      <td>NaN</td>\n",
       "      <td>university</td>\n",
       "      <td>NaN</td>\n",
       "      <td>2203.751396</td>\n",
       "      <td>POINT (-83.92908 35.94662)</td>\n",
       "    </tr>\n",
       "  </tbody>\n",
       "</table>\n",
       "</div>"
      ],
      "text/plain": [
       "     osm_id                            name          type    building  \\\n",
       "0   1637098                 Neyland Stadium  multipolygon         yes   \n",
       "1  12930066  Humanities and Social Sciences  multipolygon  university   \n",
       "2  15020855                   McClung Tower  multipolygon         yes   \n",
       "3       NaN      University Printing & Mail           NaN  university   \n",
       "4       NaN                    UT Warehouse           NaN  university   \n",
       "\n",
       "                                          other_tags      AREA_GEO  \\\n",
       "0  \"addr:city\"=>\"Knoxville\",\"addr:housenumber\"=>\"...  32781.092686   \n",
       "1                                                NaN   2533.504774   \n",
       "2                                       \"layer\"=>\"1\"    701.942535   \n",
       "3                                                NaN   4935.101437   \n",
       "4                                                NaN   2203.751396   \n",
       "\n",
       "                     geometry  \n",
       "0  POINT (-83.92569 35.95466)  \n",
       "1  POINT (-83.92902 35.95367)  \n",
       "2  POINT (-83.92897 35.95408)  \n",
       "3  POINT (-83.92825 35.94675)  \n",
       "4  POINT (-83.92908 35.94662)  "
      ]
     },
     "execution_count": 6,
     "metadata": {},
     "output_type": "execute_result"
    }
   ],
   "source": [
    "df[0:5]"
   ]
  },
  {
   "cell_type": "code",
   "execution_count": 3,
   "metadata": {},
   "outputs": [],
   "source": [
    "m.add_basemap('roadmap')"
   ]
  },
  {
   "cell_type": "code",
   "execution_count": 4,
   "metadata": {},
   "outputs": [],
   "source": [
    "m.add_draw_control()"
   ]
  },
  {
   "cell_type": "code",
   "execution_count": 5,
   "metadata": {},
   "outputs": [],
   "source": [
    "m.add_geojson('data/sample.geojson')"
   ]
  },
  {
   "cell_type": "code",
   "execution_count": 7,
   "metadata": {},
   "outputs": [],
   "source": [
    "m.add_layers_control()"
   ]
  },
  {
   "cell_type": "code",
   "execution_count": 7,
   "metadata": {},
   "outputs": [],
   "source": [
    "m.add_search_control()"
   ]
  },
  {
   "cell_type": "code",
   "execution_count": 3,
   "metadata": {},
   "outputs": [],
   "source": [
    "m.add_vector('data/sample.geojson')"
   ]
  },
  {
   "cell_type": "code",
   "execution_count": 9,
   "metadata": {},
   "outputs": [],
   "source": [
    "url = 'http://mt0.google.com/vt/lyrs=y&hl=en&x={x}&y={y}&z={z}'\n",
    "m.add_tile_layer(url = url, name = 'Google Satellite', attribution = 'Google')"
   ]
  },
  {
   "cell_type": "code",
   "execution_count": 10,
   "metadata": {},
   "outputs": [
    {
     "data": {
      "text/plain": [
       "1.4142135623730951"
      ]
     },
     "execution_count": 10,
     "metadata": {},
     "output_type": "execute_result"
    }
   ],
   "source": [
    "dist = kmaps.euclidean_dist([0, 0], [1, 1])\n",
    "dist"
   ]
  },
  {
   "cell_type": "code",
   "execution_count": 8,
   "metadata": {},
   "outputs": [
    {
     "data": {
      "text/plain": [
       "'bs'"
      ]
     },
     "execution_count": 8,
     "metadata": {},
     "output_type": "execute_result"
    }
   ],
   "source": [
    "kmaps.generate_random_string(2)"
   ]
  }
 ],
 "metadata": {
  "kernelspec": {
   "display_name": "geog510",
   "language": "python",
   "name": "python3"
  },
  "language_info": {
   "codemirror_mode": {
    "name": "ipython",
    "version": 3
   },
   "file_extension": ".py",
   "mimetype": "text/x-python",
   "name": "python",
   "nbconvert_exporter": "python",
   "pygments_lexer": "ipython3",
   "version": "3.9.16"
  },
  "orig_nbformat": 4
 },
 "nbformat": 4,
 "nbformat_minor": 2
}
