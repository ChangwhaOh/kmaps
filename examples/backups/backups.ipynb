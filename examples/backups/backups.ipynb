{
 "cells": [
  {
   "cell_type": "code",
   "execution_count": 1,
   "metadata": {},
   "outputs": [],
   "source": [
    "import kmaps"
   ]
  },
  {
   "cell_type": "code",
   "execution_count": 2,
   "metadata": {},
   "outputs": [
    {
     "data": {
      "application/vnd.jupyter.widget-view+json": {
       "model_id": "02a8d2c800f74e428b9beef83e41bdbf",
       "version_major": 2,
       "version_minor": 0
      },
      "text/plain": [
       "Map(center=[37.5, 127], controls=(ZoomControl(options=['position', 'zoom_in_text', 'zoom_in_title', 'zoom_out_…"
      ]
     },
     "metadata": {},
     "output_type": "display_data"
    }
   ],
   "source": [
    "m = kmaps.Map()\n",
    "m"
   ]
  },
  {
   "cell_type": "code",
   "execution_count": 3,
   "metadata": {},
   "outputs": [],
   "source": [
    "m.add_base_dropdown()"
   ]
  },
  {
   "cell_type": "code",
   "execution_count": 3,
   "metadata": {},
   "outputs": [],
   "source": [
    "# raw url\n",
    "url = \"https://opendata.digitalglobe.com/events/mauritius-oil-spill/post-event/2020-08-12/105001001F1B5B00/105001001F1B5B00.tif\""
   ]
  },
  {
   "cell_type": "code",
   "execution_count": 4,
   "metadata": {},
   "outputs": [],
   "source": [
    "m.add_raster(url)"
   ]
  },
  {
   "cell_type": "code",
   "execution_count": 5,
   "metadata": {},
   "outputs": [],
   "source": [
    "# only with ipyleaflet\n",
    "m.layers[-1].opacity = 0.5"
   ]
  },
  {
   "cell_type": "code",
   "execution_count": 6,
   "metadata": {},
   "outputs": [
    {
     "data": {
      "application/vnd.jupyter.widget-view+json": {
       "model_id": "86a01bfca2c04d589668d60dda6297f4",
       "version_major": 2,
       "version_minor": 0
      },
      "text/plain": [
       "Box(children=(FloatSlider(value=0.5, description='opacity', max=1.0, step=0.01),))"
      ]
     },
     "metadata": {},
     "output_type": "display_data"
    }
   ],
   "source": [
    "m.layers[-1].interact(opacity = (0, 1, 0.01))"
   ]
  },
  {
   "cell_type": "code",
   "execution_count": 7,
   "metadata": {},
   "outputs": [
    {
     "data": {
      "application/vnd.jupyter.widget-view+json": {
       "model_id": "5e1567932fc94e6494cdd387c3a4ea07",
       "version_major": 2,
       "version_minor": 0
      },
      "text/plain": [
       "Box(children=(FloatSlider(value=1.0, description='opacity', max=1.0, step=0.01),))"
      ]
     },
     "metadata": {},
     "output_type": "display_data"
    }
   ],
   "source": [
    "m.layers[0].interact(opacity = (0, 1, 0.01))"
   ]
  },
  {
   "cell_type": "code",
   "execution_count": 8,
   "metadata": {},
   "outputs": [],
   "source": [
    "from ipyleaflet import WidgetControl\n",
    "import ipywidgets as widgets"
   ]
  },
  {
   "cell_type": "code",
   "execution_count": 9,
   "metadata": {},
   "outputs": [
    {
     "data": {
      "application/vnd.jupyter.widget-view+json": {
       "model_id": "5c94e96a19fe4a1681028ec3940ce8e2",
       "version_major": 2,
       "version_minor": 0
      },
      "text/plain": [
       "FloatSlider(value=0.5, description='Layer', max=1.0, step=0.01)"
      ]
     },
     "metadata": {},
     "output_type": "display_data"
    }
   ],
   "source": [
    "slider = widgets.FloatSlider(value = 0.5, min = 0, max = 1, step = 0.01, description = 'Layer')\n",
    "slider"
   ]
  },
  {
   "cell_type": "code",
   "execution_count": 10,
   "metadata": {},
   "outputs": [
    {
     "data": {
      "text/plain": [
       "DirectionalLink(source=(FloatSlider(value=0.5, description='Layer', max=1.0, step=0.01), 'value'), target=(Til…"
      ]
     },
     "metadata": {},
     "output_type": "display_data"
    }
   ],
   "source": [
    "widgets.jsdlink((slider, 'value'), (m.layers[-1], 'opacity')) # link between a widget and a layer on the map "
   ]
  },
  {
   "cell_type": "code",
   "execution_count": 11,
   "metadata": {},
   "outputs": [],
   "source": [
    "control = WidgetControl(widget = slider, position = 'bottomright')"
   ]
  },
  {
   "cell_type": "code",
   "execution_count": 12,
   "metadata": {},
   "outputs": [
    {
     "data": {
      "application/vnd.jupyter.widget-view+json": {
       "model_id": "7f0e36f73dd54c32b9485385368d618c",
       "version_major": 2,
       "version_minor": 0
      },
      "text/plain": [
       "Map(bottom=146454.0, center=[-20.403673802342773, 57.75213430160109], controls=(ZoomControl(options=['position…"
      ]
     },
     "metadata": {},
     "output_type": "display_data"
    }
   ],
   "source": [
    "m.add(control)"
   ]
  },
  {
   "cell_type": "code",
   "execution_count": 13,
   "metadata": {},
   "outputs": [],
   "source": [
    "url2 = 'https://geography.utk.edu/wp-content/uploads/2022/09/grad_group_photo_fa22_crop-1536x916.jpg'"
   ]
  },
  {
   "cell_type": "code",
   "execution_count": 14,
   "metadata": {},
   "outputs": [],
   "source": [
    "widget = widgets.HTML(value = f'<img src=\"{url2}\" width = \"100\" height = \"60\">')"
   ]
  },
  {
   "cell_type": "code",
   "execution_count": 15,
   "metadata": {},
   "outputs": [],
   "source": [
    "control2 = WidgetControl(widget = widget, position = 'bottomright')"
   ]
  },
  {
   "cell_type": "code",
   "execution_count": 16,
   "metadata": {},
   "outputs": [
    {
     "data": {
      "application/vnd.jupyter.widget-view+json": {
       "model_id": "7f0e36f73dd54c32b9485385368d618c",
       "version_major": 2,
       "version_minor": 0
      },
      "text/plain": [
       "Map(bottom=146454.0, center=[-20.403673802342773, 57.75213430160109], controls=(ZoomControl(options=['position…"
      ]
     },
     "metadata": {},
     "output_type": "display_data"
    }
   ],
   "source": [
    "m.add(control2)"
   ]
  },
  {
   "cell_type": "code",
   "execution_count": null,
   "metadata": {},
   "outputs": [],
   "source": []
  },
  {
   "cell_type": "code",
   "execution_count": 5,
   "metadata": {},
   "outputs": [
    {
     "ename": "ValueError",
     "evalue": "The coordinates must be lists or tuples of length 2.",
     "output_type": "error",
     "traceback": [
      "\u001b[1;31m---------------------------------------------------------------------------\u001b[0m",
      "\u001b[1;31mValueError\u001b[0m                                Traceback (most recent call last)",
      "Cell \u001b[1;32mIn[5], line 1\u001b[0m\n\u001b[1;32m----> 1\u001b[0m kmaps\u001b[39m.\u001b[39;49meuclidean_dist([\u001b[39m0\u001b[39;49m], [\u001b[39m1\u001b[39;49m, \u001b[39m1\u001b[39;49m])\n",
      "File \u001b[1;32mc:\\users\\changwha\\documents\\kmaps\\kmaps\\kmaps.py:291\u001b[0m, in \u001b[0;36meuclidean_dist\u001b[1;34m(first_coord, second_coord)\u001b[0m\n\u001b[0;32m    289\u001b[0m \u001b[39mfor\u001b[39;00m coord \u001b[39min\u001b[39;00m [first_coord, second_coord]:\n\u001b[0;32m    290\u001b[0m     \u001b[39mif\u001b[39;00m \u001b[39mnot\u001b[39;00m \u001b[39misinstance\u001b[39m(coord, (\u001b[39mlist\u001b[39m, \u001b[39mtuple\u001b[39m)) \u001b[39mor\u001b[39;00m \u001b[39mlen\u001b[39m(coord) \u001b[39m!=\u001b[39m \u001b[39m2\u001b[39m:\n\u001b[1;32m--> 291\u001b[0m         \u001b[39mraise\u001b[39;00m \u001b[39mValueError\u001b[39;00m(\u001b[39m'\u001b[39m\u001b[39mThe coordinates must be lists or tuples of length 2.\u001b[39m\u001b[39m'\u001b[39m)\n\u001b[0;32m    292\u001b[0m     \u001b[39mfor\u001b[39;00m element \u001b[39min\u001b[39;00m coord:\n\u001b[0;32m    293\u001b[0m         \u001b[39mif\u001b[39;00m \u001b[39mnot\u001b[39;00m \u001b[39misinstance\u001b[39m(element, (\u001b[39mint\u001b[39m, \u001b[39mfloat\u001b[39m)):\n",
      "\u001b[1;31mValueError\u001b[0m: The coordinates must be lists or tuples of length 2."
     ]
    }
   ],
   "source": [
    "kmaps.euclidean_dist([0], [1, 1])"
   ]
  },
  {
   "cell_type": "code",
   "execution_count": null,
   "metadata": {},
   "outputs": [],
   "source": []
  },
  {
   "cell_type": "code",
   "execution_count": 1,
   "metadata": {},
   "outputs": [],
   "source": [
    "import ipywidgets as widgets\n",
    "from ipyleaflet import WidgetControl"
   ]
  },
  {
   "cell_type": "code",
   "execution_count": 2,
   "metadata": {},
   "outputs": [],
   "source": [
    "widget_width = \"250px\"\n",
    "padding = \"0px 0px 0px 5px\"  # upper, right, bottom, left\n",
    "\n",
    "toolbar_button = widgets.ToggleButton(\n",
    "    value=False,\n",
    "    tooltip=\"Toolbar\",\n",
    "    icon=\"wrench\",\n",
    "    layout=widgets.Layout(width=\"28px\", height=\"28px\", padding=padding),\n",
    ")\n",
    "\n",
    "close_button = widgets.ToggleButton(\n",
    "    value=False,\n",
    "    tooltip=\"Close the tool\",\n",
    "    icon=\"times\",\n",
    "    button_style=\"primary\",\n",
    "    layout=widgets.Layout(height=\"28px\", width=\"28px\", padding=padding),\n",
    ")"
   ]
  },
  {
   "cell_type": "code",
   "execution_count": 3,
   "metadata": {},
   "outputs": [
    {
     "data": {
      "application/vnd.jupyter.widget-view+json": {
       "model_id": "cd2fd34f2a7d4f6c82e9e44781324c30",
       "version_major": 2,
       "version_minor": 0
      },
      "text/plain": [
       "HBox(children=(ToggleButton(value=False, icon='wrench', layout=Layout(height='28px', padding='0px 0px 0px 5px'…"
      ]
     },
     "metadata": {},
     "output_type": "display_data"
    }
   ],
   "source": [
    "\n",
    "toolbar = widgets.HBox([toolbar_button])\n",
    "toolbar"
   ]
  },
  {
   "cell_type": "code",
   "execution_count": 4,
   "metadata": {},
   "outputs": [],
   "source": [
    "\n",
    "def toolbar_click(change):\n",
    "    if change[\"new\"]:\n",
    "        toolbar.children = [toolbar_button, close_button]\n",
    "    else:\n",
    "        toolbar.children = [toolbar_button]\n",
    "        \n",
    "toolbar_button.observe(toolbar_click, \"value\")"
   ]
  },
  {
   "cell_type": "code",
   "execution_count": null,
   "metadata": {},
   "outputs": [],
   "source": []
  },
  {
   "cell_type": "code",
   "execution_count": null,
   "metadata": {},
   "outputs": [],
   "source": []
  },
  {
   "cell_type": "code",
   "execution_count": null,
   "metadata": {},
   "outputs": [],
   "source": []
  }
 ],
 "metadata": {
  "kernelspec": {
   "display_name": "geog510",
   "language": "python",
   "name": "python3"
  },
  "language_info": {
   "codemirror_mode": {
    "name": "ipython",
    "version": 3
   },
   "file_extension": ".py",
   "mimetype": "text/x-python",
   "name": "python",
   "nbconvert_exporter": "python",
   "pygments_lexer": "ipython3",
   "version": "3.9.16"
  },
  "orig_nbformat": 4
 },
 "nbformat": 4,
 "nbformat_minor": 2
}
